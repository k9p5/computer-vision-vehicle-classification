{
 "cells": [
  {
   "cell_type": "code",
   "execution_count": null,
   "metadata": {},
   "outputs": [],
   "source": [
    "#Sobel-Filter\n",
    "import matplotlib.pyplot as plt\n",
    "import matplotlib as mpl\n",
    "import numpy as np\n",
    "import cv2\n",
    "\n",
    "img = plt.imread(\"../datasets/images/test.jpg\")\n",
    "result = np.abs(cv2.Sobel(img, cv2.CV_16S, 1, 0))\n",
    "\n",
    "plt.imshow(result)"
   ]
  },
  {
   "cell_type": "code",
   "execution_count": null,
   "metadata": {},
   "outputs": [],
   "source": [
    "#canny edge detector\n",
    "import matplotlib.pyplot as plt\n",
    "import matplotlib as mpl\n",
    "import numpy as np\n",
    "import cv2\n",
    "\n",
    "img = cv2.imread('../datasets/images/test.jpg', cv2.COLOR_BGR2GRAY)\n",
    "imgg = cv2.cvtColor(img, cv2.COLOR_BGR2GRAY)\n",
    "edges = cv2.Canny(img, 40, 50)\n",
    "\n",
    "plt.imshow(edges, cmap = 'gray')"
   ]
  },
  {
   "cell_type": "code",
   "execution_count": null,
   "metadata": {},
   "outputs": [],
   "source": [
    "#canny edge detector trackbars\n",
    "import matplotlib.pyplot as plt\n",
    "import matplotlib as mpl\n",
    "import numpy as np\n",
    "import cv2\n",
    "\n",
    "img = cv2.imread('../datasets/images/test.jpg',0)\n",
    "\n",
    "def nothing(x):\n",
    "    pass\n",
    "cv2.namedWindow(\"canny\")\n",
    "cv2.createTrackbar(\"t_high\", \"canny\", 250, 2000, nothing)\n",
    "cv2.createTrackbar(\"t_low\", \"canny\", 60, 2000, nothing)\n",
    "imgt=img.copy()\n",
    "k=0\n",
    "while(k!=27):\n",
    "    cv2.imshow('canny',imgt)\n",
    "    k = cv2.waitKey(1) & 0xFF\n",
    "    th = cv2.getTrackbarPos('t_high','canny')\n",
    "    tl = cv2.getTrackbarPos('t_low','canny')\n",
    "    imgt=cv2.Canny(img, tl, th)"
   ]
  },
  {
   "cell_type": "code",
   "execution_count": 1,
   "metadata": {},
   "outputs": [
    {
     "ename": "SyntaxError",
     "evalue": "invalid syntax (<ipython-input-1-782d8c40581c>, line 1)",
     "output_type": "error",
     "traceback": [
      "\u001b[1;36m  File \u001b[1;32m\"<ipython-input-1-782d8c40581c>\"\u001b[1;36m, line \u001b[1;32m1\u001b[0m\n\u001b[1;33m    show gitlens explorer\u001b[0m\n\u001b[1;37m         ^\u001b[0m\n\u001b[1;31mSyntaxError\u001b[0m\u001b[1;31m:\u001b[0m invalid syntax\n"
     ]
    }
   ],
   "source": [
    "#subtraction\r\n",
    "test = cv2.imread('test.jpg',0)\r\n",
    "none = cv2.imread('none.jpg',0)\r\n",
    "imgs = (test-30-none)\r\n",
    "_, imgst = cv2.threshold(imgs, 50, 255, cv2.THRESH_BINARY)\r\n",
    "plt.imshow(imgst-255, cmap = 'gray')\r\n",
    "plt.title('subtraction')\r\n"
   ]
  },
  {
   "cell_type": "code",
   "execution_count": null,
   "metadata": {},
   "outputs": [],
   "source": [
    "#subtraction with equalisation\r\n",
    "test = cv2.imread('test.jpg',0)\r\n",
    "teste = cv2.equalizeHist(test)\r\n",
    "none = cv2.imread('none.jpg',0)\r\n",
    "nonee = cv2.equalizeHist(none)\r\n",
    "imgs = (teste-30-nonee)\r\n",
    "_, imgst = cv2.threshold(imgs, 50, 255, cv2.THRESH_BINARY)\r\n",
    "plt.imshow(imgst-255, cmap = 'gray')\r\n",
    "plt.title('subtraction with equalisation')"
   ]
  },
  {
   "cell_type": "code",
   "execution_count": null,
   "metadata": {},
   "outputs": [],
   "source": [
    "#subtraction and dilation\r\n",
    "kernel = np.ones((2, 1), np.uint8)\r\n",
    "imgd = cv2.dilate(imgst, kernel, iterations = 8)\r\n",
    "plt.imshow(imgd-255, cmap = 'gray')\r\n",
    "plt.title('subtraction and dilation')"
   ]
  },
  {
   "cell_type": "code",
   "execution_count": null,
   "metadata": {},
   "outputs": [],
   "source": [
    "#Sobel-Filter\r\n",
    "import matplotlib.pyplot as plt\r\n",
    "import numpy as np\r\n",
    "import cv2\r\n",
    "\r\n",
    "img = plt.imread(\"test.jpg\")\r\n",
    "result = np.abs(cv2.Sobel(img, cv2.CV_16S, 1, 0))\r\n",
    "\r\n",
    "plt.imshow(result)"
   ]
  },
  {
   "cell_type": "code",
   "execution_count": null,
   "metadata": {},
   "outputs": [],
   "source": [
    "#canny edge detector\r\n",
    "import matplotlib.pyplot as plt\r\n",
    "import numpy as np\r\n",
    "import cv2\r\n",
    "\r\n",
    "img = cv2.imread('test.jpg', cv2.COLOR_BGR2GRAY)\r\n",
    "imgg = cv2.cvtColor(img, cv2.COLOR_BGR2GRAY)\r\n",
    "edges = cv2.Canny(img, 40, 50)\r\n",
    "\r\n",
    "plt.imshow(edges, cmap = 'gray')"
   ]
  },
  {
   "cell_type": "code",
   "execution_count": null,
   "metadata": {},
   "outputs": [],
   "source": [
    "#canny edge detector trackbars\r\n",
    "import matplotlib.pyplot as plt\r\n",
    "import matplotlib as mpl\r\n",
    "import numpy as np\r\n",
    "import cv2\r\n",
    "\r\n",
    "img = cv2.imread('test.jpg',0)\r\n",
    "\r\n",
    "def nothing(x):\r\n",
    "    pass\r\n",
    "cv2.namedWindow(\"canny\")\r\n",
    "cv2.createTrackbar(\"t_high\", \"canny\", 250, 2000, nothing)\r\n",
    "cv2.createTrackbar(\"t_low\", \"canny\", 60, 2000, nothing)\r\n",
    "imgt=img.copy()\r\n",
    "k=0\r\n",
    "while(k!=27):\r\n",
    "    cv2.imshow('canny',imgt)\r\n",
    "    k = cv2.waitKey(1) & 0xFF\r\n",
    "    th = cv2.getTrackbarPos('t_high','canny')\r\n",
    "    tl = cv2.getTrackbarPos('t_low','canny')\r\n",
    "    imgt=cv2.Canny(img, tl, th)"
   ]
  },
  {
   "cell_type": "code",
   "execution_count": null,
   "metadata": {},
   "outputs": [],
   "source": [
    "#canny edge detector with subtraction and dilation\r\n",
    "import matplotlib.pyplot as plt\r\n",
    "import numpy as np\r\n",
    "import cv2\r\n",
    "\r\n",
    "test = cv2.imread('test.jpg', cv2.COLOR_BGR2GRAY)\r\n",
    "testc = cv2.Canny(test, 70, 70)\r\n",
    "none = cv2.imread('none.jpg', cv2.COLOR_BGR2GRAY)\r\n",
    "nonec = cv2.Canny(none, 40, 50)\r\n",
    "\r\n",
    "img = (testc-nonec)\r\n",
    "\r\n",
    "kernel = np.ones((2,1),np.uint8)\r\n",
    "imgd = cv2.dilate(img,kernel,iterations = 1)\r\n",
    "plt.imshow(imgd, cmap = 'gray')"
   ]
  },
  {
   "cell_type": "code",
   "execution_count": null,
   "metadata": {},
   "outputs": [],
   "source": [
    "#canny edge detector with subtraction\r\n",
    "import matplotlib.pyplot as plt\r\n",
    "import numpy as np\r\n",
    "import cv2\r\n",
    "\r\n",
    "test = cv2.imread('test.jpg', cv2.COLOR_BGR2GRAY)\r\n",
    "testc = cv2.Canny(test, 70, 70)\r\n",
    "none = cv2.imread('none.jpg', cv2.COLOR_BGR2GRAY)\r\n",
    "nonec = cv2.Canny(none, 40, 50)\r\n",
    "\r\n",
    "img = (testc-nonec)\r\n",
    "\r\n",
    "plt.imshow(img, cmap = 'gray')"
   ]
  },
  {
   "cell_type": "code",
   "execution_count": null,
   "metadata": {},
   "outputs": [],
   "source": [
    "#canny edge detector with subtraction and morphology\r\n",
    "import matplotlib.pyplot as plt\r\n",
    "import numpy as np\r\n",
    "import cv2\r\n",
    "\r\n",
    "test = cv2.imread('test.jpg', cv2.COLOR_BGR2GRAY)\r\n",
    "testc = cv2.Canny(test, 70, 70)\r\n",
    "none = cv2.imread('none.jpg', cv2.COLOR_BGR2GRAY)\r\n",
    "nonec = cv2.Canny(none, 40, 50)\r\n",
    "\r\n",
    "img = (testc-nonec)\r\n",
    "\r\n",
    "kernel = np.ones((1,2),np.uint8)\r\n",
    "imgm = cv2.morphologyEx(img, cv2.MORPH_OPEN, kernel)\r\n",
    "\r\n",
    "plt.imshow(imgm, cmap = 'gray')"
   ]
  }
 ],
 "metadata": {
  "interpreter": {
   "hash": "4c967c58fca919f2927c2cf447cc0551677aefd79476b8b462eae5ddc95f90ff"
  },
  "kernelspec": {
   "display_name": "Python 3.9.5 64-bit",
   "name": "python3"
  },
  "language_info": {
   "name": "python",
   "version": ""
  },
  "orig_nbformat": 2
 },
 "nbformat": 4,
 "nbformat_minor": 2
}