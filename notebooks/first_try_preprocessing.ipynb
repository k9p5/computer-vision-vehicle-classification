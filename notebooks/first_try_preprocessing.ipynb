{
 "metadata": {
  "language_info": {
   "codemirror_mode": {
    "name": "ipython",
    "version": 3
   },
   "file_extension": ".py",
   "mimetype": "text/x-python",
   "name": "python",
   "nbconvert_exporter": "python",
   "pygments_lexer": "ipython3",
   "version": 3
  },
  "orig_nbformat": 2
 },
 "nbformat": 4,
 "nbformat_minor": 2,
 "cells": [
  {
   "cell_type": "code",
   "execution_count": null,
   "metadata": {},
   "outputs": [],
   "source": [
    "#Sobel-Filter\n",
    "import matplotlib.pyplot as plt\n",
    "import matplotlib as mpl\n",
    "import numpy as np\n",
    "import cv2\n",
    "\n",
    "img = plt.imread(\"test.jpg\")\n",
    "result = np.abs(cv2.Sobel(img, cv2.CV_16S, 1, 0))\n",
    "\n",
    "plt.imshow(result)"
   ]
  },
  {
   "cell_type": "code",
   "execution_count": null,
   "metadata": {},
   "outputs": [],
   "source": [
    "#canny edge detector\n",
    "import matplotlib.pyplot as plt\n",
    "import matplotlib as mpl\n",
    "import numpy as np\n",
    "import cv2\n",
    "\n",
    "img = cv2.imread('test.jpg', cv2.COLOR_BGR2GRAY)\n",
    "imgg = cv2.cvtColor(img, cv2.COLOR_BGR2GRAY)\n",
    "edges = cv2.Canny(img, 40, 50)\n",
    "\n",
    "plt.imshow(edges, cmap = 'gray')"
   ]
  },
  {
   "cell_type": "code",
   "execution_count": null,
   "metadata": {},
   "outputs": [],
   "source": [
    "#canny edge detector trackbars\n",
    "import matplotlib.pyplot as plt\n",
    "import matplotlib as mpl\n",
    "import numpy as np\n",
    "import cv2\n",
    "\n",
    "img = cv2.imread('test.jpg',0)\n",
    "\n",
    "def nothing(x):\n",
    "    pass\n",
    "cv2.namedWindow(\"canny\")\n",
    "cv2.createTrackbar(\"t_high\", \"canny\", 250, 2000, nothing)\n",
    "cv2.createTrackbar(\"t_low\", \"canny\", 60, 2000, nothing)\n",
    "imgt=img.copy()\n",
    "k=0\n",
    "while(k!=27):\n",
    "    cv2.imshow('canny',imgt)\n",
    "    k = cv2.waitKey(1) & 0xFF\n",
    "    th = cv2.getTrackbarPos('t_high','canny')\n",
    "    tl = cv2.getTrackbarPos('t_low','canny')\n",
    "    imgt=cv2.Canny(img, tl, th)"
   ]
  }
 ]
}