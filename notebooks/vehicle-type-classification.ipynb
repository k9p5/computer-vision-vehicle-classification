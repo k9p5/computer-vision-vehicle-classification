{
 "metadata": {
  "language_info": {
   "codemirror_mode": {
    "name": "ipython",
    "version": 3
   },
   "file_extension": ".py",
   "mimetype": "text/x-python",
   "name": "python",
   "nbconvert_exporter": "python",
   "pygments_lexer": "ipython3",
   "version": "3.9.5"
  },
  "orig_nbformat": 2,
  "kernelspec": {
   "name": "python395jvsc74a57bd04c967c58fca919f2927c2cf447cc0551677aefd79476b8b462eae5ddc95f90ff",
   "display_name": "Python 3.9.5 64-bit"
  },
  "metadata": {
   "interpreter": {
    "hash": "4c967c58fca919f2927c2cf447cc0551677aefd79476b8b462eae5ddc95f90ff"
   }
  }
 },
 "nbformat": 4,
 "nbformat_minor": 2,
 "cells": [
  {
   "source": [
    "# Vehicle Type Classification\n",
    "\n",
    "K. Pyong-Kun, L. Kil-Taek (2017). Vehicle Type Classification Using Bagging and Convolutional Neural Network on Multi View Surveillance Image. Retrieved from https://openaccess.thecvf.com/content_cvpr_2017_workshops/w9/papers/Kim_Vehicle_Type_Classification_CVPR_2017_paper.pdf\n",
    "<br>\n",
    "<br>\n",
    "Dataset @ http://podoce.dinf.usherbrooke.ca/challenge/dataset/\n"
   ],
   "cell_type": "markdown",
   "metadata": {}
  },
  {
   "cell_type": "code",
   "execution_count": null,
   "metadata": {},
   "outputs": [],
   "source": []
  }
 ]
}