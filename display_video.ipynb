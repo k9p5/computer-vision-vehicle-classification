{
 "cells": [
  {
   "cell_type": "code",
   "execution_count": 6,
   "metadata": {},
   "outputs": [],
   "source": [
    "import numpy as np\r\n",
    "import cv2 as cv\r\n",
    "cap = cv2.VideoCapture('../datasets/side_daihatsu.MOV') # capture\r\n",
    "while cap.isOpened():\r\n",
    "    ret, frame = cap.read()\r\n",
    "    # if frame is read correctly ret is True\r\n",
    "    if not ret:\r\n",
    "        print(\"Can't receive frame (stream end?). Exiting ...\")\r\n",
    "        break\r\n",
    "    gray = cv.cvtColor(frame, cv.COLOR_BGR2GRAY)\r\n",
    "    cv.imshow('frame', gray)\r\n",
    "    if cv.waitKey(1) == ord('q'):\r\n",
    "        break\r\n",
    "cap.release()"
   ]
  }
 ],
 "metadata": {
  "interpreter": {
   "hash": "4c967c58fca919f2927c2cf447cc0551677aefd79476b8b462eae5ddc95f90ff"
  },
  "kernelspec": {
   "display_name": "Python 3.9.5 64-bit",
   "name": "python3"
  },
  "language_info": {
   "codemirror_mode": {
    "name": "ipython",
    "version": 3
   },
   "file_extension": ".py",
   "mimetype": "text/x-python",
   "name": "python",
   "nbconvert_exporter": "python",
   "pygments_lexer": "ipython3",
   "version": "3.9.5"
  },
  "orig_nbformat": 4
 },
 "nbformat": 4,
 "nbformat_minor": 2
}